{
 "cells": [
  {
   "cell_type": "code",
   "execution_count": 1,
   "metadata": {
    "ExecuteTime": {
     "end_time": "2020-10-13T12:30:37.003745Z",
     "start_time": "2020-10-13T12:30:36.462886Z"
    }
   },
   "outputs": [],
   "source": [
    "import pandas as pd"
   ]
  },
  {
   "cell_type": "code",
   "execution_count": 2,
   "metadata": {
    "ExecuteTime": {
     "end_time": "2020-10-13T12:30:59.996327Z",
     "start_time": "2020-10-13T12:30:59.983304Z"
    }
   },
   "outputs": [],
   "source": [
    "ungroupedResults = pd.read_csv(\"results.csv\")"
   ]
  },
  {
   "cell_type": "code",
   "execution_count": 4,
   "metadata": {
    "ExecuteTime": {
     "end_time": "2020-10-13T12:31:37.947334Z",
     "start_time": "2020-10-13T12:31:37.936804Z"
    }
   },
   "outputs": [
    {
     "data": {
      "text/plain": [
       "Index(['Name', 'Tot. Statements', 'Deployed', 'Tot. Branches',\n",
       "       'Branches Covered', 'Generations', 'Blockchain Time', 'Offchain Time',\n",
       "       'Total time'],\n",
       "      dtype='object')"
      ]
     },
     "execution_count": 4,
     "metadata": {},
     "output_type": "execute_result"
    }
   ],
   "source": [
    "ungroupedResults.columns"
   ]
  },
  {
   "cell_type": "code",
   "execution_count": 3,
   "metadata": {
    "ExecuteTime": {
     "end_time": "2020-10-13T12:31:01.646172Z",
     "start_time": "2020-10-13T12:31:01.617999Z"
    }
   },
   "outputs": [
    {
     "data": {
      "text/html": [
       "<div>\n",
       "<style scoped>\n",
       "    .dataframe tbody tr th:only-of-type {\n",
       "        vertical-align: middle;\n",
       "    }\n",
       "\n",
       "    .dataframe tbody tr th {\n",
       "        vertical-align: top;\n",
       "    }\n",
       "\n",
       "    .dataframe thead th {\n",
       "        text-align: right;\n",
       "    }\n",
       "</style>\n",
       "<table border=\"1\" class=\"dataframe\">\n",
       "  <thead>\n",
       "    <tr style=\"text-align: right;\">\n",
       "      <th></th>\n",
       "      <th>Name</th>\n",
       "      <th>Tot. Statements</th>\n",
       "      <th>Deployed</th>\n",
       "      <th>Tot. Branches</th>\n",
       "      <th>Branches Covered</th>\n",
       "      <th>Generations</th>\n",
       "      <th>Blockchain Time</th>\n",
       "      <th>Offchain Time</th>\n",
       "      <th>Total time</th>\n",
       "    </tr>\n",
       "  </thead>\n",
       "  <tbody>\n",
       "    <tr>\n",
       "      <th>0</th>\n",
       "      <td>Casino</td>\n",
       "      <td>38</td>\n",
       "      <td>N</td>\n",
       "      <td>8219.099212</td>\n",
       "      <td>25</td>\n",
       "      <td>100</td>\n",
       "      <td>6675.188309</td>\n",
       "      <td>1543.910903</td>\n",
       "      <td>8219.099212</td>\n",
       "    </tr>\n",
       "    <tr>\n",
       "      <th>1</th>\n",
       "      <td>MyAdvancedToken</td>\n",
       "      <td>53</td>\n",
       "      <td>Y</td>\n",
       "      <td>128.955149</td>\n",
       "      <td>3</td>\n",
       "      <td>0</td>\n",
       "      <td>93.113597</td>\n",
       "      <td>35.841552</td>\n",
       "      <td>128.955149</td>\n",
       "    </tr>\n",
       "    <tr>\n",
       "      <th>2</th>\n",
       "      <td>GuardCheck</td>\n",
       "      <td>10</td>\n",
       "      <td>N</td>\n",
       "      <td>155.924933</td>\n",
       "      <td>14</td>\n",
       "      <td>1</td>\n",
       "      <td>129.042221</td>\n",
       "      <td>26.882712</td>\n",
       "      <td>155.924933</td>\n",
       "    </tr>\n",
       "    <tr>\n",
       "      <th>3</th>\n",
       "      <td>Casino</td>\n",
       "      <td>38</td>\n",
       "      <td>N</td>\n",
       "      <td>8343.191921</td>\n",
       "      <td>25</td>\n",
       "      <td>100</td>\n",
       "      <td>6852.547195</td>\n",
       "      <td>1490.644726</td>\n",
       "      <td>8343.191921</td>\n",
       "    </tr>\n",
       "    <tr>\n",
       "      <th>4</th>\n",
       "      <td>Rubixi</td>\n",
       "      <td>56</td>\n",
       "      <td>Y</td>\n",
       "      <td>6352.253653</td>\n",
       "      <td>67</td>\n",
       "      <td>100</td>\n",
       "      <td>4382.686017</td>\n",
       "      <td>1969.567636</td>\n",
       "      <td>6352.253653</td>\n",
       "    </tr>\n",
       "    <tr>\n",
       "      <th>...</th>\n",
       "      <td>...</td>\n",
       "      <td>...</td>\n",
       "      <td>...</td>\n",
       "      <td>...</td>\n",
       "      <td>...</td>\n",
       "      <td>...</td>\n",
       "      <td>...</td>\n",
       "      <td>...</td>\n",
       "      <td>...</td>\n",
       "    </tr>\n",
       "    <tr>\n",
       "      <th>325</th>\n",
       "      <td>theRun</td>\n",
       "      <td>62</td>\n",
       "      <td>Y</td>\n",
       "      <td>11153.380024</td>\n",
       "      <td>34</td>\n",
       "      <td>100</td>\n",
       "      <td>8433.809063</td>\n",
       "      <td>2719.570961</td>\n",
       "      <td>11153.380024</td>\n",
       "    </tr>\n",
       "    <tr>\n",
       "      <th>326</th>\n",
       "      <td>MultiSigWallet (1)</td>\n",
       "      <td>56</td>\n",
       "      <td>N</td>\n",
       "      <td>15691.507538</td>\n",
       "      <td>64</td>\n",
       "      <td>100</td>\n",
       "      <td>11718.961254</td>\n",
       "      <td>3972.546284</td>\n",
       "      <td>15691.507538</td>\n",
       "    </tr>\n",
       "    <tr>\n",
       "      <th>327</th>\n",
       "      <td>Casino</td>\n",
       "      <td>38</td>\n",
       "      <td>N</td>\n",
       "      <td>8088.448052</td>\n",
       "      <td>25</td>\n",
       "      <td>100</td>\n",
       "      <td>6651.132344</td>\n",
       "      <td>1437.315708</td>\n",
       "      <td>8088.448052</td>\n",
       "    </tr>\n",
       "    <tr>\n",
       "      <th>328</th>\n",
       "      <td>MultiSigWallet (1)</td>\n",
       "      <td>56</td>\n",
       "      <td>N</td>\n",
       "      <td>14401.715327</td>\n",
       "      <td>60</td>\n",
       "      <td>100</td>\n",
       "      <td>11163.439344</td>\n",
       "      <td>3238.275983</td>\n",
       "      <td>14401.715327</td>\n",
       "    </tr>\n",
       "    <tr>\n",
       "      <th>329</th>\n",
       "      <td>FixedSupplyToken</td>\n",
       "      <td>39</td>\n",
       "      <td>Y</td>\n",
       "      <td>7769.675745</td>\n",
       "      <td>21</td>\n",
       "      <td>100</td>\n",
       "      <td>6172.475407</td>\n",
       "      <td>1597.200338</td>\n",
       "      <td>7769.675745</td>\n",
       "    </tr>\n",
       "  </tbody>\n",
       "</table>\n",
       "<p>330 rows × 9 columns</p>\n",
       "</div>"
      ],
      "text/plain": [
       "                   Name  Tot. Statements Deployed  Tot. Branches  \\\n",
       "0                Casino               38        N    8219.099212   \n",
       "1       MyAdvancedToken               53        Y     128.955149   \n",
       "2            GuardCheck               10        N     155.924933   \n",
       "3                Casino               38        N    8343.191921   \n",
       "4                Rubixi               56        Y    6352.253653   \n",
       "..                  ...              ...      ...            ...   \n",
       "325              theRun               62        Y   11153.380024   \n",
       "326  MultiSigWallet (1)               56        N   15691.507538   \n",
       "327              Casino               38        N    8088.448052   \n",
       "328  MultiSigWallet (1)               56        N   14401.715327   \n",
       "329    FixedSupplyToken               39        Y    7769.675745   \n",
       "\n",
       "     Branches Covered  Generations  Blockchain Time  Offchain Time  \\\n",
       "0                  25          100      6675.188309    1543.910903   \n",
       "1                   3            0        93.113597      35.841552   \n",
       "2                  14            1       129.042221      26.882712   \n",
       "3                  25          100      6852.547195    1490.644726   \n",
       "4                  67          100      4382.686017    1969.567636   \n",
       "..                ...          ...              ...            ...   \n",
       "325                34          100      8433.809063    2719.570961   \n",
       "326                64          100     11718.961254    3972.546284   \n",
       "327                25          100      6651.132344    1437.315708   \n",
       "328                60          100     11163.439344    3238.275983   \n",
       "329                21          100      6172.475407    1597.200338   \n",
       "\n",
       "       Total time  \n",
       "0     8219.099212  \n",
       "1      128.955149  \n",
       "2      155.924933  \n",
       "3     8343.191921  \n",
       "4     6352.253653  \n",
       "..            ...  \n",
       "325  11153.380024  \n",
       "326  15691.507538  \n",
       "327   8088.448052  \n",
       "328  14401.715327  \n",
       "329   7769.675745  \n",
       "\n",
       "[330 rows x 9 columns]"
      ]
     },
     "execution_count": 3,
     "metadata": {},
     "output_type": "execute_result"
    }
   ],
   "source": [
    "constColumns = ['Name', 'Tot. Statements', 'Deployed', 'Tot. Branches']\n",
    "groupedColumns = ['Branches Covered', 'Generations', 'Blockchain Time', 'Offchain Time', 'Total time']"
   ]
  }
 ],
 "metadata": {
  "kernelspec": {
   "display_name": "Python 3",
   "language": "python",
   "name": "python3"
  },
  "language_info": {
   "codemirror_mode": {
    "name": "ipython",
    "version": 3
   },
   "file_extension": ".py",
   "mimetype": "text/x-python",
   "name": "python",
   "nbconvert_exporter": "python",
   "pygments_lexer": "ipython3",
   "version": "3.7.4"
  },
  "latex_envs": {
   "LaTeX_envs_menu_present": true,
   "autoclose": false,
   "autocomplete": true,
   "bibliofile": "biblio.bib",
   "cite_by": "apalike",
   "current_citInitial": 1,
   "eqLabelWithNumbers": true,
   "eqNumInitial": 1,
   "hotkeys": {
    "equation": "Ctrl-E",
    "itemize": "Ctrl-I"
   },
   "labels_anchors": false,
   "latex_user_defs": false,
   "report_style_numbering": false,
   "user_envs_cfg": false
  }
 },
 "nbformat": 4,
 "nbformat_minor": 4
}
